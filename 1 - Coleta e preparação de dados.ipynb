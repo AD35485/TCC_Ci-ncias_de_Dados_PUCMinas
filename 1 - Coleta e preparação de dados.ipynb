{
 "cells": [
  {
   "cell_type": "markdown",
   "id": "6a1ab614",
   "metadata": {},
   "source": [
    "# 1. Coleta de dados"
   ]
  },
  {
   "cell_type": "markdown",
   "id": "79749804",
   "metadata": {},
   "source": [
    "### API Yahoo Finance"
   ]
  },
  {
   "cell_type": "code",
   "execution_count": null,
   "id": "f0d74703",
   "metadata": {},
   "outputs": [],
   "source": [
    "# intalar e/ou atualizar biblioteca yfinance\n",
    "!pip install yfinance --upgrade"
   ]
  },
  {
   "cell_type": "markdown",
   "id": "78116d14",
   "metadata": {},
   "source": [
    "### Dados ações BOVA11 e S&P500"
   ]
  },
  {
   "cell_type": "code",
   "execution_count": 1,
   "id": "9408bac0",
   "metadata": {},
   "outputs": [
    {
     "name": "stdout",
     "output_type": "stream",
     "text": [
      "<class 'pandas.core.frame.DataFrame'>\n",
      "RangeIndex: 3223 entries, 0 to 3222\n",
      "Data columns (total 8 columns):\n",
      " #   Column        Non-Null Count  Dtype         \n",
      "---  ------        --------------  -----         \n",
      " 0   Date          3223 non-null   datetime64[ns]\n",
      " 1   Open          3223 non-null   float64       \n",
      " 2   High          3223 non-null   float64       \n",
      " 3   Low           3223 non-null   float64       \n",
      " 4   Close         3223 non-null   float64       \n",
      " 5   Volume        3223 non-null   int64         \n",
      " 6   Dividends     3223 non-null   int64         \n",
      " 7   Stock Splits  3223 non-null   int64         \n",
      "dtypes: datetime64[ns](1), float64(4), int64(3)\n",
      "memory usage: 201.6 KB\n",
      "<class 'pandas.core.frame.DataFrame'>\n",
      "RangeIndex: 3272 entries, 0 to 3271\n",
      "Data columns (total 8 columns):\n",
      " #   Column        Non-Null Count  Dtype         \n",
      "---  ------        --------------  -----         \n",
      " 0   Date          3272 non-null   datetime64[ns]\n",
      " 1   Open          3272 non-null   float64       \n",
      " 2   High          3272 non-null   float64       \n",
      " 3   Low           3272 non-null   float64       \n",
      " 4   Close         3272 non-null   float64       \n",
      " 5   Volume        3272 non-null   int64         \n",
      " 6   Dividends     3272 non-null   int64         \n",
      " 7   Stock Splits  3272 non-null   int64         \n",
      "dtypes: datetime64[ns](1), float64(4), int64(3)\n",
      "memory usage: 204.6 KB\n"
     ]
    }
   ],
   "source": [
    "# importar yfinance ao notebook\n",
    "import yfinance as yf\n",
    "\n",
    "# variávis de definição - dados de interesse\n",
    "ticker_label = [\"BOVA11.SA\", \"^GSPC\"]\n",
    "dt_period = [\"2009-01-01\", \"2021-12-31\"]\n",
    "historical_data = {}\n",
    "\n",
    "# recuperar dados de interesse\n",
    "for label in ticker_label:\n",
    "    data = yf.Ticker(label)\n",
    "    historical_data[label] = data.history(start=dt_period[0], end=dt_period[1])\n",
    "    historical_data[label].reset_index(inplace=True)\n",
    "    historical_data[label].info()"
   ]
  },
  {
   "cell_type": "markdown",
   "id": "5e776adc",
   "metadata": {},
   "source": [
    "### Dados cotação dólar americano"
   ]
  },
  {
   "cell_type": "code",
   "execution_count": 2,
   "id": "1cbb32a4",
   "metadata": {},
   "outputs": [
    {
     "name": "stdout",
     "output_type": "stream",
     "text": [
      "<class 'pandas.core.frame.DataFrame'>\n",
      "RangeIndex: 3387 entries, 0 to 3386\n",
      "Data columns (total 6 columns):\n",
      " #   Column    Non-Null Count  Dtype         \n",
      "---  ------    --------------  -----         \n",
      " 0   Data      3387 non-null   datetime64[ns]\n",
      " 1   Último    3387 non-null   float64       \n",
      " 2   Abertura  3387 non-null   float64       \n",
      " 3   Máxima    3387 non-null   float64       \n",
      " 4   Mínima    3387 non-null   float64       \n",
      " 5   Var%      3387 non-null   float64       \n",
      "dtypes: datetime64[ns](1), float64(5)\n",
      "memory usage: 158.9 KB\n"
     ]
    }
   ],
   "source": [
    "\"\"\"\n",
    "Download realizado através do site investing.com\n",
    "https://br.investing.com/currencies/usd-brl-historical-data\n",
    "\"\"\"\n",
    "\n",
    "# importar pandas ao notebook\n",
    "import pandas as pd\n",
    "\n",
    "# ler arquivo csv\n",
    "dolar = pd.read_csv(\"USD_BRL Dados Históricos.csv\", parse_dates=['Data'], dayfirst=True)\n",
    "\n",
    "dolar.info()"
   ]
  },
  {
   "cell_type": "markdown",
   "id": "782106a4",
   "metadata": {},
   "source": [
    "# 2. Preocessamento dos dados"
   ]
  },
  {
   "cell_type": "markdown",
   "id": "c7842d8c",
   "metadata": {},
   "source": [
    "### Junção dos conjuntos de dados"
   ]
  },
  {
   "cell_type": "code",
   "execution_count": 3,
   "id": "2430b786",
   "metadata": {},
   "outputs": [
    {
     "data": {
      "text/plain": [
       "BOVA     0\n",
       "USD      0\n",
       "SP5     79\n",
       "dtype: int64"
      ]
     },
     "execution_count": 3,
     "metadata": {},
     "output_type": "execute_result"
    }
   ],
   "source": [
    "# Colunas de interesse\n",
    "colunas_yf = ['Date', 'Close']\n",
    "colunas_dolar = ['Data', 'Último']\n",
    "\n",
    "# Datasets individuais\n",
    "bova = historical_data['BOVA11.SA'][colunas_yf]\n",
    "bova.columns = ['data', 'BOVA']\n",
    "\n",
    "sp5 = historical_data['^GSPC'][colunas_yf]\n",
    "sp5.columns = ['data', 'SP5']\n",
    "\n",
    "usd = dolar[colunas_dolar]\n",
    "usd.columns = ['data', 'USD']\n",
    "\n",
    "# Jução dos datasets\n",
    "historico = bova.set_index('data').join(usd.set_index('data'))\n",
    "historico = historico.join(sp5.set_index('data'))\n",
    "\n",
    "# Verificação de valores nulos\n",
    "historico.isnull().sum()"
   ]
  },
  {
   "cell_type": "markdown",
   "id": "330a66be",
   "metadata": {},
   "source": [
    "### Investigação e tratamento de valores nulos S&P500"
   ]
  },
  {
   "cell_type": "code",
   "execution_count": 4,
   "id": "441d58ab",
   "metadata": {},
   "outputs": [
    {
     "name": "stdout",
     "output_type": "stream",
     "text": [
      "                 BOVA     USD  SP5\n",
      "data                              \n",
      "2009-01-19  38.950001  2.3545  NaN\n",
      "2009-02-16  41.990002  2.2755  NaN\n",
      "2009-05-25  50.900002  2.0265  NaN\n",
      "2009-07-03  50.799999  1.9494  NaN\n",
      "2009-11-26  65.500000  1.7475  NaN \n",
      "                   BOVA     USD  SP5\n",
      "data                               \n",
      "2021-01-18  116.540001  5.2957  NaN\n",
      "2021-05-31  121.250000  5.2172  NaN\n",
      "2021-07-05  121.970001  5.0910  NaN\n",
      "2021-09-06  113.480003  5.1693  NaN\n",
      "2021-11-25  101.989998  5.5664  NaN\n"
     ]
    }
   ],
   "source": [
    "nulos = historico[historico.SP5.isnull()]\n",
    "print(nulos.head(),\n",
    "      \"\\n\",\n",
    "      nulos.tail())"
   ]
  },
  {
   "cell_type": "code",
   "execution_count": 5,
   "id": "ad8b8040",
   "metadata": {},
   "outputs": [
    {
     "data": {
      "text/plain": [
       "BOVA    0\n",
       "USD     0\n",
       "SP5     0\n",
       "dtype: int64"
      ]
     },
     "execution_count": 5,
     "metadata": {},
     "output_type": "execute_result"
    }
   ],
   "source": [
    "import numpy as np\n",
    "\n",
    "# Substituir valores nulos\n",
    "for i in range(len(historico)):\n",
    "    if (np.isnan(historico.iloc[i,2])):\n",
    "        historico.iloc[i,2] = historico.iloc[i-1,2]\n",
    "\n",
    "# Verificação de valores nulos\n",
    "historico.isnull().sum()"
   ]
  },
  {
   "cell_type": "code",
   "execution_count": 6,
   "id": "c295d50a",
   "metadata": {},
   "outputs": [
    {
     "data": {
      "text/html": [
       "<div>\n",
       "<style scoped>\n",
       "    .dataframe tbody tr th:only-of-type {\n",
       "        vertical-align: middle;\n",
       "    }\n",
       "\n",
       "    .dataframe tbody tr th {\n",
       "        vertical-align: top;\n",
       "    }\n",
       "\n",
       "    .dataframe thead th {\n",
       "        text-align: right;\n",
       "    }\n",
       "</style>\n",
       "<table border=\"1\" class=\"dataframe\">\n",
       "  <thead>\n",
       "    <tr style=\"text-align: right;\">\n",
       "      <th></th>\n",
       "      <th>BOVA</th>\n",
       "      <th>USD</th>\n",
       "      <th>SP5</th>\n",
       "    </tr>\n",
       "  </thead>\n",
       "  <tbody>\n",
       "    <tr>\n",
       "      <th>count</th>\n",
       "      <td>3223.000000</td>\n",
       "      <td>3223.000000</td>\n",
       "      <td>3223.000000</td>\n",
       "    </tr>\n",
       "    <tr>\n",
       "      <th>mean</th>\n",
       "      <td>68.560187</td>\n",
       "      <td>3.081228</td>\n",
       "      <td>2158.809627</td>\n",
       "    </tr>\n",
       "    <tr>\n",
       "      <th>std</th>\n",
       "      <td>21.013876</td>\n",
       "      <td>1.217166</td>\n",
       "      <td>923.220577</td>\n",
       "    </tr>\n",
       "    <tr>\n",
       "      <th>min</th>\n",
       "      <td>36.450001</td>\n",
       "      <td>1.538300</td>\n",
       "      <td>676.530029</td>\n",
       "    </tr>\n",
       "    <tr>\n",
       "      <th>25%</th>\n",
       "      <td>52.880001</td>\n",
       "      <td>2.012750</td>\n",
       "      <td>1351.859985</td>\n",
       "    </tr>\n",
       "    <tr>\n",
       "      <th>50%</th>\n",
       "      <td>62.200001</td>\n",
       "      <td>3.118500</td>\n",
       "      <td>2051.120117</td>\n",
       "    </tr>\n",
       "    <tr>\n",
       "      <th>75%</th>\n",
       "      <td>81.000000</td>\n",
       "      <td>3.853800</td>\n",
       "      <td>2748.864990</td>\n",
       "    </tr>\n",
       "    <tr>\n",
       "      <th>max</th>\n",
       "      <td>125.750000</td>\n",
       "      <td>5.885600</td>\n",
       "      <td>4793.060059</td>\n",
       "    </tr>\n",
       "  </tbody>\n",
       "</table>\n",
       "</div>"
      ],
      "text/plain": [
       "              BOVA          USD          SP5\n",
       "count  3223.000000  3223.000000  3223.000000\n",
       "mean     68.560187     3.081228  2158.809627\n",
       "std      21.013876     1.217166   923.220577\n",
       "min      36.450001     1.538300   676.530029\n",
       "25%      52.880001     2.012750  1351.859985\n",
       "50%      62.200001     3.118500  2051.120117\n",
       "75%      81.000000     3.853800  2748.864990\n",
       "max     125.750000     5.885600  4793.060059"
      ]
     },
     "execution_count": 6,
     "metadata": {},
     "output_type": "execute_result"
    }
   ],
   "source": [
    "# Conjunto tratado\n",
    "historico.describe()"
   ]
  },
  {
   "cell_type": "markdown",
   "id": "1cb7741d",
   "metadata": {},
   "source": [
    "### Feature Engineering"
   ]
  },
  {
   "cell_type": "markdown",
   "id": "8cc88a0b",
   "metadata": {},
   "source": [
    "#### Cálculo de retorno "
   ]
  },
  {
   "cell_type": "code",
   "execution_count": 7,
   "id": "350a5760",
   "metadata": {},
   "outputs": [],
   "source": [
    "import numpy as np\n",
    "\n",
    "dados = historico.copy()\n",
    "\n",
    "# Cálculo de retoro diário\n",
    "col = dados.columns\n",
    "for i in col[0:4]:\n",
    "    dados['RT_'+str(i)] = (dados[str(i)] /dados[str(i)].shift(periods=1)) - 1\n",
    "\n",
    "# Remover valores nulos\n",
    "dataset =  dados.iloc[:,3:].copy()\n",
    "dataset.dropna(subset = [\"RT_BOVA\"], inplace=True)"
   ]
  },
  {
   "cell_type": "markdown",
   "id": "b9880940",
   "metadata": {},
   "source": [
    "#### Variável alvo"
   ]
  },
  {
   "cell_type": "code",
   "execution_count": 8,
   "id": "f2a1ad00",
   "metadata": {},
   "outputs": [
    {
     "data": {
      "text/html": [
       "<div>\n",
       "<style scoped>\n",
       "    .dataframe tbody tr th:only-of-type {\n",
       "        vertical-align: middle;\n",
       "    }\n",
       "\n",
       "    .dataframe tbody tr th {\n",
       "        vertical-align: top;\n",
       "    }\n",
       "\n",
       "    .dataframe thead th {\n",
       "        text-align: right;\n",
       "    }\n",
       "</style>\n",
       "<table border=\"1\" class=\"dataframe\">\n",
       "  <thead>\n",
       "    <tr style=\"text-align: right;\">\n",
       "      <th></th>\n",
       "      <th>RT_BOVA</th>\n",
       "      <th>RT_USD</th>\n",
       "      <th>RT_SP5</th>\n",
       "      <th>TARGET</th>\n",
       "    </tr>\n",
       "    <tr>\n",
       "      <th>data</th>\n",
       "      <th></th>\n",
       "      <th></th>\n",
       "      <th></th>\n",
       "      <th></th>\n",
       "    </tr>\n",
       "  </thead>\n",
       "  <tbody>\n",
       "    <tr>\n",
       "      <th>2009-01-05</th>\n",
       "      <td>0.041667</td>\n",
       "      <td>-0.036822</td>\n",
       "      <td>-0.004668</td>\n",
       "      <td>1.0</td>\n",
       "    </tr>\n",
       "    <tr>\n",
       "      <th>2009-01-06</th>\n",
       "      <td>0.007619</td>\n",
       "      <td>-0.029958</td>\n",
       "      <td>0.007817</td>\n",
       "      <td>0.0</td>\n",
       "    </tr>\n",
       "    <tr>\n",
       "      <th>2009-01-07</th>\n",
       "      <td>-0.039698</td>\n",
       "      <td>0.047476</td>\n",
       "      <td>-0.030010</td>\n",
       "      <td>1.0</td>\n",
       "    </tr>\n",
       "    <tr>\n",
       "      <th>2009-01-08</th>\n",
       "      <td>0.038386</td>\n",
       "      <td>0.010121</td>\n",
       "      <td>0.003397</td>\n",
       "      <td>0.0</td>\n",
       "    </tr>\n",
       "    <tr>\n",
       "      <th>2009-01-09</th>\n",
       "      <td>-0.004739</td>\n",
       "      <td>-0.018994</td>\n",
       "      <td>-0.021303</td>\n",
       "      <td>0.0</td>\n",
       "    </tr>\n",
       "  </tbody>\n",
       "</table>\n",
       "</div>"
      ],
      "text/plain": [
       "             RT_BOVA    RT_USD    RT_SP5  TARGET\n",
       "data                                            \n",
       "2009-01-05  0.041667 -0.036822 -0.004668     1.0\n",
       "2009-01-06  0.007619 -0.029958  0.007817     0.0\n",
       "2009-01-07 -0.039698  0.047476 -0.030010     1.0\n",
       "2009-01-08  0.038386  0.010121  0.003397     0.0\n",
       "2009-01-09 -0.004739 -0.018994 -0.021303     0.0"
      ]
     },
     "execution_count": 8,
     "metadata": {},
     "output_type": "execute_result"
    }
   ],
   "source": [
    "# Retorno mínimo esperado\n",
    "retorno_min = 0.005\n",
    "\n",
    "# Variável alvo\n",
    "def target(vetor):\n",
    "    rt = vetor['RT_BOVA']\n",
    "    if rt>=retorno_min:\n",
    "        return 1\n",
    "    else:\n",
    "        return 0\n",
    "\n",
    "# Criar alvo, deslocamento temporal e remover nulos \n",
    "dataset['TARGET'] = dataset.apply(target, axis=1)\n",
    "dataset['TARGET'] = dataset['TARGET'].shift(-1)\n",
    "dataset.dropna(subset = [\"TARGET\"], inplace=True)\n",
    "\n",
    "dataset.head()"
   ]
  },
  {
   "cell_type": "code",
   "execution_count": 9,
   "id": "6a52c514",
   "metadata": {},
   "outputs": [
    {
     "data": {
      "text/html": [
       "<div>\n",
       "<style scoped>\n",
       "    .dataframe tbody tr th:only-of-type {\n",
       "        vertical-align: middle;\n",
       "    }\n",
       "\n",
       "    .dataframe tbody tr th {\n",
       "        vertical-align: top;\n",
       "    }\n",
       "\n",
       "    .dataframe thead th {\n",
       "        text-align: right;\n",
       "    }\n",
       "</style>\n",
       "<table border=\"1\" class=\"dataframe\">\n",
       "  <thead>\n",
       "    <tr style=\"text-align: right;\">\n",
       "      <th></th>\n",
       "      <th>RT_BOVA</th>\n",
       "      <th>RT_USD</th>\n",
       "      <th>RT_SP5</th>\n",
       "      <th>TARGET</th>\n",
       "    </tr>\n",
       "  </thead>\n",
       "  <tbody>\n",
       "    <tr>\n",
       "      <th>count</th>\n",
       "      <td>3221.000000</td>\n",
       "      <td>3221.000000</td>\n",
       "      <td>3221.000000</td>\n",
       "      <td>3221.000000</td>\n",
       "    </tr>\n",
       "    <tr>\n",
       "      <th>mean</th>\n",
       "      <td>0.000416</td>\n",
       "      <td>0.000332</td>\n",
       "      <td>0.000574</td>\n",
       "      <td>0.357032</td>\n",
       "    </tr>\n",
       "    <tr>\n",
       "      <th>std</th>\n",
       "      <td>0.016274</td>\n",
       "      <td>0.010289</td>\n",
       "      <td>0.011410</td>\n",
       "      <td>0.479199</td>\n",
       "    </tr>\n",
       "    <tr>\n",
       "      <th>min</th>\n",
       "      <td>-0.145747</td>\n",
       "      <td>-0.057731</td>\n",
       "      <td>-0.119841</td>\n",
       "      <td>0.000000</td>\n",
       "    </tr>\n",
       "    <tr>\n",
       "      <th>25%</th>\n",
       "      <td>-0.008155</td>\n",
       "      <td>-0.005621</td>\n",
       "      <td>-0.003480</td>\n",
       "      <td>0.000000</td>\n",
       "    </tr>\n",
       "    <tr>\n",
       "      <th>50%</th>\n",
       "      <td>0.000182</td>\n",
       "      <td>0.000318</td>\n",
       "      <td>0.000598</td>\n",
       "      <td>0.000000</td>\n",
       "    </tr>\n",
       "    <tr>\n",
       "      <th>75%</th>\n",
       "      <td>0.009200</td>\n",
       "      <td>0.006242</td>\n",
       "      <td>0.005647</td>\n",
       "      <td>1.000000</td>\n",
       "    </tr>\n",
       "    <tr>\n",
       "      <th>max</th>\n",
       "      <td>0.133951</td>\n",
       "      <td>0.074251</td>\n",
       "      <td>0.093828</td>\n",
       "      <td>1.000000</td>\n",
       "    </tr>\n",
       "  </tbody>\n",
       "</table>\n",
       "</div>"
      ],
      "text/plain": [
       "           RT_BOVA       RT_USD       RT_SP5       TARGET\n",
       "count  3221.000000  3221.000000  3221.000000  3221.000000\n",
       "mean      0.000416     0.000332     0.000574     0.357032\n",
       "std       0.016274     0.010289     0.011410     0.479199\n",
       "min      -0.145747    -0.057731    -0.119841     0.000000\n",
       "25%      -0.008155    -0.005621    -0.003480     0.000000\n",
       "50%       0.000182     0.000318     0.000598     0.000000\n",
       "75%       0.009200     0.006242     0.005647     1.000000\n",
       "max       0.133951     0.074251     0.093828     1.000000"
      ]
     },
     "execution_count": 9,
     "metadata": {},
     "output_type": "execute_result"
    }
   ],
   "source": [
    "dataset.describe()"
   ]
  },
  {
   "cell_type": "markdown",
   "id": "c81186e6",
   "metadata": {},
   "source": [
    "#### Salvar datasets"
   ]
  },
  {
   "cell_type": "code",
   "execution_count": 10,
   "id": "c65a65c1",
   "metadata": {},
   "outputs": [],
   "source": [
    "dados.iloc[:,0:3].to_excel(\"serie_hist.xlsx\")\n",
    "dataset.to_excel(\"retorno_hist.xlsx\")"
   ]
  },
  {
   "cell_type": "code",
   "execution_count": null,
   "id": "6959c684",
   "metadata": {},
   "outputs": [],
   "source": []
  }
 ],
 "metadata": {
  "kernelspec": {
   "display_name": "Python 3 (ipykernel)",
   "language": "python",
   "name": "python3"
  },
  "language_info": {
   "codemirror_mode": {
    "name": "ipython",
    "version": 3
   },
   "file_extension": ".py",
   "mimetype": "text/x-python",
   "name": "python",
   "nbconvert_exporter": "python",
   "pygments_lexer": "ipython3",
   "version": "3.8.3"
  }
 },
 "nbformat": 4,
 "nbformat_minor": 5
}
