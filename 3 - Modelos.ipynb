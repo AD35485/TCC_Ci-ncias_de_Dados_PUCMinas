{
 "cells": [
  {
   "cell_type": "markdown",
   "id": "4cf8e3f0",
   "metadata": {},
   "source": [
    "## Dados de treino e teste"
   ]
  },
  {
   "cell_type": "code",
   "execution_count": 1,
   "id": "8a6c5e31",
   "metadata": {},
   "outputs": [],
   "source": [
    "# importar dados\n",
    "import pandas as pd\n",
    "\n",
    "retornos = pd.read_excel('retorno_hist.xlsx', index_col=\"data\")"
   ]
  },
  {
   "cell_type": "code",
   "execution_count": 2,
   "id": "855aa15d",
   "metadata": {
    "scrolled": true
   },
   "outputs": [
    {
     "name": "stdout",
     "output_type": "stream",
     "text": [
      "Teste:  (30, 3) (30,)\n",
      "Treino:  (3191, 3) (3191,)\n"
     ]
    }
   ],
   "source": [
    "# Divisão daods treino e teste\n",
    "\n",
    "# Teste últimos 30 dias\n",
    "X_teste = retornos.iloc[-30:,:-1].to_numpy()\n",
    "y_teste = retornos.iloc[-30:,-1:].to_numpy().ravel()\n",
    "\n",
    "# Treino histórico -30 dias\n",
    "X_treino = retornos.iloc[:-30,:-1].to_numpy()\n",
    "y_treino = retornos.iloc[:-30,-1:].to_numpy().ravel()\n",
    "\n",
    "print(\"Teste: \", X_teste.shape, y_teste.shape)\n",
    "print(\"Treino: \", X_treino.shape, y_treino.shape)"
   ]
  },
  {
   "cell_type": "code",
   "execution_count": 3,
   "id": "ed213f2d",
   "metadata": {},
   "outputs": [],
   "source": [
    "# Normalização dos dados\n",
    "from sklearn.preprocessing import MinMaxScaler\n",
    "\n",
    "minmax = MinMaxScaler()\n",
    "X_treino_nrm = minmax.fit_transform(X_treino)\n",
    "X_teste_nrm = minmax.transform(X_teste)"
   ]
  },
  {
   "cell_type": "markdown",
   "id": "841305e6",
   "metadata": {},
   "source": [
    "## Regressão logística"
   ]
  },
  {
   "cell_type": "code",
   "execution_count": 4,
   "id": "ce9aea82",
   "metadata": {},
   "outputs": [
    {
     "name": "stdout",
     "output_type": "stream",
     "text": [
      "Fitting 5 folds for each of 10 candidates, totalling 50 fits\n",
      "Best score: 0.5214971843362332\n",
      "Best param: {'C': 0.01, 'fit_intercept': False}\n"
     ]
    }
   ],
   "source": [
    "from sklearn.linear_model import LogisticRegression\n",
    "from sklearn.model_selection import GridSearchCV\n",
    "from sklearn.metrics import confusion_matrix, accuracy_score, precision_score, recall_score\n",
    "from sklearn.metrics import precision_recall_curve, PrecisionRecallDisplay\n",
    "\n",
    "# Modelo\n",
    "log_reg = LogisticRegression(class_weight='balanced', random_state=13)\n",
    "\n",
    "# Hiperparâemtros\n",
    "hyperparam_grid = {\n",
    "    'fit_intercept': [True, False],\n",
    "    'C': [0.01, 0.1, 1, 10, 100]\n",
    "}\n",
    "\n",
    "# Busca aleatório com validação cruzada\n",
    "busca = GridSearchCV(log_reg, hyperparam_grid, scoring=\"roc_auc\", cv=5, refit=True,\n",
    "                          n_jobs=-1, verbose=3)\n",
    "\n",
    "busca.fit(X_treino_nrm, y_treino)\n",
    "\n",
    "print(\"Best score: {}\".format(busca.best_score_))\n",
    "print(\"Best param: {}\".format(busca.best_params_))"
   ]
  },
  {
   "cell_type": "code",
   "execution_count": 5,
   "id": "59ab2775",
   "metadata": {},
   "outputs": [
    {
     "name": "stdout",
     "output_type": "stream",
     "text": [
      "\n",
      "\n",
      "Confusion Matrix : \n",
      " [[10  6]\n",
      " [ 9  5]] \n",
      "\n",
      "Accuracy =  0.5\n",
      "Precision =  0.45454545454545453\n",
      "Recall =  0.35714285714285715\n"
     ]
    }
   ],
   "source": [
    "# Implementar melhor modelo\n",
    "reg_best = busca.best_estimator_.fit(X_treino_nrm, y_treino)\n",
    "\n",
    "# Predição\n",
    "pred = reg_best.predict(X_teste_nrm)\n",
    "\n",
    "# Resulrados conjunto de Teste\n",
    "print('\\n')\n",
    "cm = confusion_matrix(y_teste, pred)\n",
    "print (\"Confusion Matrix : \\n\", cm, '\\n')\n",
    "\n",
    "print('Accuracy = ', accuracy_score(y_teste, pred))\n",
    "print('Precision = ', precision_score(y_teste, pred))\n",
    "print('Recall = ', recall_score(y_teste, pred))"
   ]
  },
  {
   "cell_type": "markdown",
   "id": "d44c04e3",
   "metadata": {},
   "source": [
    "## Floresta aleatória"
   ]
  },
  {
   "cell_type": "code",
   "execution_count": 6,
   "id": "8f3c63b8",
   "metadata": {},
   "outputs": [
    {
     "name": "stdout",
     "output_type": "stream",
     "text": [
      "Fitting 5 folds for each of 54 candidates, totalling 270 fits\n",
      "Best score: 0.5240700468170975\n",
      "Best param: {'criterion': 'entropy', 'min_samples_leaf': 100, 'min_samples_split': 2, 'n_estimators': 10}\n"
     ]
    }
   ],
   "source": [
    "from sklearn.ensemble import RandomForestClassifier\n",
    "\n",
    "# Modelo\n",
    "flr_alt = RandomForestClassifier(class_weight='balanced', max_depth=100, random_state=13)\n",
    "\n",
    "# Hiperparâemtros\n",
    "hyperparam_grid = {\n",
    "    'criterion' : ['entropy', 'gini'],\n",
    "    'min_samples_leaf': [1, 10, 100],\n",
    "    'min_samples_split': [2, 10, 100],\n",
    "    'n_estimators': [10, 100, 1000]\n",
    "}\n",
    "\n",
    "# Busca aleatório com validação cruzada\n",
    "busca = GridSearchCV(flr_alt, hyperparam_grid, scoring=\"roc_auc\", cv=5, refit=True,\n",
    "                          n_jobs=-1, verbose=3)\n",
    "\n",
    "busca.fit(X_treino_nrm, y_treino)\n",
    "\n",
    "print(\"Best score: {}\".format(busca.best_score_))\n",
    "print(\"Best param: {}\".format(busca.best_params_))"
   ]
  },
  {
   "cell_type": "code",
   "execution_count": 7,
   "id": "d94a868a",
   "metadata": {},
   "outputs": [
    {
     "name": "stdout",
     "output_type": "stream",
     "text": [
      "\n",
      "\n",
      "Confusion Matrix : \n",
      " [[13  3]\n",
      " [ 7  7]] \n",
      "\n",
      "Accuracy =  0.6666666666666666\n",
      "Precision =  0.7\n",
      "Recall =  0.5\n"
     ]
    }
   ],
   "source": [
    "# Implementar melhor modelo\n",
    "flr_best = busca.best_estimator_.fit(X_treino_nrm, y_treino)\n",
    "\n",
    "# Predição\n",
    "pred = flr_best.predict(X_teste_nrm)\n",
    "\n",
    "# Resulrados conjunto de Teste\n",
    "print('\\n')\n",
    "cm = confusion_matrix(y_teste, pred)\n",
    "print (\"Confusion Matrix : \\n\", cm, '\\n')\n",
    "\n",
    "print('Accuracy = ', accuracy_score(y_teste, pred))\n",
    "print('Precision = ', precision_score(y_teste, pred))\n",
    "print('Recall = ', recall_score(y_teste, pred))"
   ]
  },
  {
   "cell_type": "markdown",
   "id": "4af2e7ff",
   "metadata": {},
   "source": [
    "## SVM "
   ]
  },
  {
   "cell_type": "code",
   "execution_count": 8,
   "id": "36b27fc1",
   "metadata": {},
   "outputs": [
    {
     "name": "stdout",
     "output_type": "stream",
     "text": [
      "Fitting 5 folds for each of 30 candidates, totalling 150 fits\n",
      "Best score: 0.5216116461878298\n",
      "Best param: {'C': 100, 'gamma': 0.001, 'kernel': 'rbf'}\n"
     ]
    }
   ],
   "source": [
    "from sklearn.svm import SVC\n",
    "\n",
    "# Modelo\n",
    "svm = SVC(class_weight = 'balanced', random_state=13)\n",
    "\n",
    "# Hiperparâemtros\n",
    "hyperparam_grid = {\n",
    "    'kernel' : ['sigmoid', 'rbf'],\n",
    "    'C': [0.01, 0.1, 1, 10, 100],\n",
    "    'gamma': [0.1, 0.01, 0.001]\n",
    "}\n",
    "\n",
    "# Busca aleatório com validação cruzada\n",
    "busca = GridSearchCV(svm, hyperparam_grid, scoring=\"roc_auc\", cv=5, refit=True,\n",
    "                          n_jobs=-1, verbose=3)\n",
    "\n",
    "busca.fit(X_treino_nrm, y_treino)\n",
    "\n",
    "print(\"Best score: {}\".format(busca.best_score_))\n",
    "print(\"Best param: {}\".format(busca.best_params_))"
   ]
  },
  {
   "cell_type": "code",
   "execution_count": 9,
   "id": "613ccf84",
   "metadata": {},
   "outputs": [
    {
     "name": "stdout",
     "output_type": "stream",
     "text": [
      "\n",
      "\n",
      "Confusion Matrix : \n",
      " [[15  1]\n",
      " [10  4]] \n",
      "\n",
      "Accuracy =  0.6333333333333333\n",
      "Precision =  0.8\n",
      "Recall =  0.2857142857142857\n"
     ]
    }
   ],
   "source": [
    "# Implementar melhor modelo\n",
    "svm_best = busca.best_estimator_.fit(X_treino_nrm, y_treino)\n",
    "\n",
    "# Predição\n",
    "pred = svm_best.predict(X_teste_nrm)\n",
    "\n",
    "# Resulrados conjunto de Teste\n",
    "print('\\n')\n",
    "cm = confusion_matrix(y_teste, pred)\n",
    "print (\"Confusion Matrix : \\n\", cm, '\\n')\n",
    "\n",
    "print('Accuracy = ', accuracy_score(y_teste, pred))\n",
    "print('Precision = ', precision_score(y_teste, pred))\n",
    "print('Recall = ', recall_score(y_teste, pred))"
   ]
  },
  {
   "cell_type": "code",
   "execution_count": null,
   "id": "02fc87e1",
   "metadata": {},
   "outputs": [],
   "source": []
  }
 ],
 "metadata": {
  "kernelspec": {
   "display_name": "Python 3 (ipykernel)",
   "language": "python",
   "name": "python3"
  },
  "language_info": {
   "codemirror_mode": {
    "name": "ipython",
    "version": 3
   },
   "file_extension": ".py",
   "mimetype": "text/x-python",
   "name": "python",
   "nbconvert_exporter": "python",
   "pygments_lexer": "ipython3",
   "version": "3.8.3"
  }
 },
 "nbformat": 4,
 "nbformat_minor": 5
}
